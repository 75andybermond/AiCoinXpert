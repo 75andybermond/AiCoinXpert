{
 "cells": [
  {
   "cell_type": "markdown",
   "metadata": {},
   "source": [
    "## Notebook to create a video from a set of pictures"
   ]
  },
  {
   "cell_type": "code",
   "execution_count": 2,
   "metadata": {},
   "outputs": [],
   "source": [
    "import cv2\n",
    "import os\n",
    "\n",
    "# Set the directory containing the images\n",
    "image_dir = \"/workspaces/AICoinXpert/algo/yolo/video_maker/images\"\n",
    "\n",
    "# Set the output video filename\n",
    "output_filename = \"output.avi\"\n",
    "\n",
    "# Set the video codec and framerate\n",
    "fourcc = cv2.VideoWriter_fourcc(*\"XVID\")\n",
    "fps = 15\n",
    "\n",
    "# Set the number of frames to duplicate\n",
    "num_frames = 10\n",
    "\n",
    "# Get a list of all the image filenames in the directory\n",
    "image_filenames = [os.path.join(image_dir, f) for f in os.listdir(image_dir) if f.endswith(\".jpg\")]\n",
    "\n",
    "# Sort the image filenames by name\n",
    "image_filenames.sort()\n",
    "\n",
    "# Get the first image to use as a template for the video size\n",
    "first_image = cv2.imread(image_filenames[0])\n",
    "height, width, channels = first_image.shape\n",
    "\n",
    "# Create the video writer object\n",
    "video_writer = cv2.VideoWriter(output_filename, fourcc, fps, (width, height))\n",
    "\n",
    "# Iterate through the image filenames and write each image to the video file\n",
    "for image_filename in image_filenames:\n",
    "    image = cv2.imread(image_filename)\n",
    "    for i in range(num_frames):\n",
    "        video_writer.write(image)\n",
    "\n",
    "# Release the video writer object and close the video file\n",
    "video_writer.release()"
   ]
  },
  {
   "cell_type": "code",
   "execution_count": null,
   "metadata": {},
   "outputs": [],
   "source": []
  }
 ],
 "metadata": {
  "kernelspec": {
   "display_name": ".venv",
   "language": "python",
   "name": "python3"
  },
  "language_info": {
   "codemirror_mode": {
    "name": "ipython",
    "version": 3
   },
   "file_extension": ".py",
   "mimetype": "text/x-python",
   "name": "python",
   "nbconvert_exporter": "python",
   "pygments_lexer": "ipython3",
   "version": "3.11.4"
  },
  "orig_nbformat": 4
 },
 "nbformat": 4,
 "nbformat_minor": 2
}
