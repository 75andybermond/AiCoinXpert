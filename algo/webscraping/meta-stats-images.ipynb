{
 "cells": [
  {
   "cell_type": "code",
   "execution_count": 1,
   "metadata": {},
   "outputs": [],
   "source": [
    "from PIL import Image\n",
    "import numpy as np\n",
    "import os\n"
   ]
  },
  {
   "cell_type": "code",
   "execution_count": 6,
   "metadata": {},
   "outputs": [
    {
     "name": "stdout",
     "output_type": "stream",
     "text": [
      "Average image size: 2258.6762589928057 x 2243.5707434052756\n",
      "Average brightness: 137.24349617866676\n",
      "Average contrast: 57.091037474831246\n",
      "Biggest image size: 4141 x 3936\n",
      "Smallest image size: 140 x 140\n",
      "Total number of images: 417\n"
     ]
    }
   ],
   "source": [
    "# Define the folder path\n",
    "folder_path = '/workspaces/AICoinXpert/algo/webscraping/data/selected_coins_above20'\n",
    "\n",
    "# Initialize lists to store the properties of each image\n",
    "widths = []\n",
    "heights = []\n",
    "brightnesses = []\n",
    "contrasts = []\n",
    "\n",
    "# Loop through all image files in the folder\n",
    "for filename in os.listdir(folder_path):\n",
    "    if filename.endswith(('.jpg', '.png', '.jpeg', '.webp')):\n",
    "        # Open the image and get its size\n",
    "        img = Image.open(os.path.join(folder_path, filename))\n",
    "        width, height = img.size\n",
    "\n",
    "        # Get the color distribution of the image\n",
    "        histogram = img.histogram()\n",
    "\n",
    "        # Convert the image to grayscale and calculate its brightness\n",
    "        gray_img = img.convert('L')\n",
    "        brightness = np.mean(np.array(gray_img))\n",
    "\n",
    "        # Calculate the contrast of the image\n",
    "        contrast = np.std(np.array(gray_img))\n",
    "\n",
    "        # Append the properties of the image to the respective lists\n",
    "        widths.append(width)\n",
    "        heights.append(height)\n",
    "        brightnesses.append(brightness)\n",
    "        contrasts.append(contrast)\n",
    "\n",
    "# Calculate the average of the properties of all images\n",
    "avg_width = sum(widths) / len(widths)\n",
    "avg_height = sum(heights) / len(heights)\n",
    "avg_brightness = sum(brightnesses) / len(brightnesses)\n",
    "avg_contrast = sum(contrasts) / len(contrasts)\n",
    "\n",
    "# Print the average properties of all images\n",
    "print(f\"Average image size: {avg_width} x {avg_height}\")\n",
    "print(f\"Average brightness: {avg_brightness}\")        \n",
    "print(f\"Average contrast: {avg_contrast}\")\n",
    "\n",
    "# Find the biggest and smallest image\n",
    "biggest_image_index = widths.index(max(widths))\n",
    "smallest_image_index = widths.index(min(widths))\n",
    "\n",
    "# Print the biggest and smallest image sizes\n",
    "print(f\"Biggest image size: {widths[biggest_image_index]} x {heights[biggest_image_index]}\")\n",
    "print(f\"Smallest image size: {widths[smallest_image_index]} x {heights[smallest_image_index]}\")\n",
    "# add the counter\n",
    "print(f\"Total number of images: {len(widths)}\")\n"
   ]
  },
  {
   "cell_type": "code",
   "execution_count": null,
   "metadata": {},
   "outputs": [],
   "source": []
  }
 ],
 "metadata": {
  "kernelspec": {
   "display_name": ".venv",
   "language": "python",
   "name": "python3"
  },
  "language_info": {
   "codemirror_mode": {
    "name": "ipython",
    "version": 3
   },
   "file_extension": ".py",
   "mimetype": "text/x-python",
   "name": "python",
   "nbconvert_exporter": "python",
   "pygments_lexer": "ipython3",
   "version": "3.11.4"
  },
  "orig_nbformat": 4
 },
 "nbformat": 4,
 "nbformat_minor": 2
}
