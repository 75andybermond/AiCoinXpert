{
 "cells": [
  {
   "cell_type": "code",
   "execution_count": 1,
   "metadata": {},
   "outputs": [],
   "source": [
    "import pandas as pd\n",
    "import os"
   ]
  },
  {
   "attachments": {},
   "cell_type": "markdown",
   "metadata": {},
   "source": [
    "### Dataset made of coins not labeled properly (only by values)\n",
    "    * TODO: Remove heads of coins"
   ]
  },
  {
   "cell_type": "code",
   "execution_count": 11,
   "metadata": {},
   "outputs": [
    {
     "name": "stdout",
     "output_type": "stream",
     "text": [
      "Folder: 2c\n",
      "Total images: 40\n",
      "--------------------\n",
      "Folder: 2e\n",
      "Total images: 96\n",
      "--------------------\n",
      "Folder: 10c\n",
      "Total images: 612\n",
      "--------------------\n",
      "Folder: 5c\n",
      "Total images: 694\n",
      "--------------------\n",
      "Folder: 1e\n",
      "Total images: 474\n",
      "--------------------\n",
      "Folder: 50c\n",
      "Total images: 243\n",
      "--------------------\n",
      "Folder: 1c\n",
      "Total images: 122\n",
      "--------------------\n",
      "Folder: 20c\n",
      "Total images: 548\n",
      "--------------------\n",
      "Total images in the folder: 2829\n"
     ]
    }
   ],
   "source": [
    "def count_pictures_in_folders(main_folder):\n",
    "    total_count = 0\n",
    "    # add counting total number of images in the folder\n",
    "    for root, dirs, files in os.walk(main_folder):\n",
    "        if files:\n",
    "            picture_count = len([file for file in files if file.endswith(('.jpg', '.jpeg', '.png', '.gif'))])\n",
    "            folder_name = os.path.basename(root)\n",
    "            print(f\"Folder: {folder_name}\")\n",
    "            print(f\"Total images: {picture_count}\")\n",
    "            print(\"--------------------\")\n",
    "            total_count += picture_count\n",
    "    print(f\"Total images in the folder: {total_count}\")\n",
    "\n",
    "# Usage example\n",
    "main_folder = \"/workspaces/AICoinXpert/algo/datasets/not_labelled\"\n",
    "count_pictures_in_folders(main_folder)"
   ]
  },
  {
   "cell_type": "code",
   "execution_count": null,
   "metadata": {},
   "outputs": [],
   "source": []
  }
 ],
 "metadata": {
  "kernelspec": {
   "display_name": ".venv",
   "language": "python",
   "name": "python3"
  },
  "language_info": {
   "codemirror_mode": {
    "name": "ipython",
    "version": 3
   },
   "file_extension": ".py",
   "mimetype": "text/x-python",
   "name": "python",
   "nbconvert_exporter": "python",
   "pygments_lexer": "ipython3",
   "version": "3.11.4"
  },
  "orig_nbformat": 4
 },
 "nbformat": 4,
 "nbformat_minor": 2
}
